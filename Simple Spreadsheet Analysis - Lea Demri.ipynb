{
 "cells": [
  {
   "cell_type": "markdown",
   "metadata": {},
   "source": [
    "# Simple Spreadsheet Analysis"
   ]
  },
  {
   "cell_type": "markdown",
   "metadata": {},
   "source": [
    "Lea Demri"
   ]
  },
  {
   "cell_type": "markdown",
   "metadata": {},
   "source": [
    "11/02/2019"
   ]
  },
  {
   "cell_type": "markdown",
   "metadata": {},
   "source": [
    "## Import Libraries"
   ]
  },
  {
   "cell_type": "code",
   "execution_count": 228,
   "metadata": {},
   "outputs": [],
   "source": [
    "import pandas as pd\n",
    "import numpy as np\n",
    "import matplotlib.pyplot as plt\n",
    "import seaborn as sns"
   ]
  },
  {
   "cell_type": "markdown",
   "metadata": {},
   "source": [
    "## Read and Format Data\n"
   ]
  },
  {
   "cell_type": "markdown",
   "metadata": {},
   "source": [
    "I copied the .xlsx document and saved it in .csv format. I import the data as a dataframe."
   ]
  },
  {
   "cell_type": "code",
   "execution_count": 196,
   "metadata": {},
   "outputs": [
    {
     "data": {
      "text/html": [
       "<div>\n",
       "<style scoped>\n",
       "    .dataframe tbody tr th:only-of-type {\n",
       "        vertical-align: middle;\n",
       "    }\n",
       "\n",
       "    .dataframe tbody tr th {\n",
       "        vertical-align: top;\n",
       "    }\n",
       "\n",
       "    .dataframe thead th {\n",
       "        text-align: right;\n",
       "    }\n",
       "</style>\n",
       "<table border=\"1\" class=\"dataframe\">\n",
       "  <thead>\n",
       "    <tr style=\"text-align: right;\">\n",
       "      <th></th>\n",
       "      <th>Account Manager</th>\n",
       "      <th>Client Name</th>\n",
       "      <th>Date of Contact</th>\n",
       "    </tr>\n",
       "  </thead>\n",
       "  <tbody>\n",
       "    <tr>\n",
       "      <th>0</th>\n",
       "      <td>Milan Crona</td>\n",
       "      <td>Wyman, Farrell and Haag</td>\n",
       "      <td>10/31/2015</td>\n",
       "    </tr>\n",
       "    <tr>\n",
       "      <th>1</th>\n",
       "      <td>Aidan Pouros</td>\n",
       "      <td>Veum, McClure and Schuster</td>\n",
       "      <td>12/15/2013</td>\n",
       "    </tr>\n",
       "    <tr>\n",
       "      <th>2</th>\n",
       "      <td>Aidan Pouros</td>\n",
       "      <td>Veum, McClure and Schuster</td>\n",
       "      <td>12/7/2013</td>\n",
       "    </tr>\n",
       "    <tr>\n",
       "      <th>3</th>\n",
       "      <td>Milan Crona</td>\n",
       "      <td>Armstrong Group</td>\n",
       "      <td>11/2/2013</td>\n",
       "    </tr>\n",
       "    <tr>\n",
       "      <th>4</th>\n",
       "      <td>Aidan Pouros</td>\n",
       "      <td>Lueilwitz, Moore and Hahn</td>\n",
       "      <td>12/25/2013</td>\n",
       "    </tr>\n",
       "  </tbody>\n",
       "</table>\n",
       "</div>"
      ],
      "text/plain": [
       "  Account Manager                 Client Name Date of Contact\n",
       "0     Milan Crona     Wyman, Farrell and Haag      10/31/2015\n",
       "1    Aidan Pouros  Veum, McClure and Schuster      12/15/2013\n",
       "2    Aidan Pouros  Veum, McClure and Schuster       12/7/2013\n",
       "3     Milan Crona             Armstrong Group       11/2/2013\n",
       "4    Aidan Pouros   Lueilwitz, Moore and Hahn      12/25/2013"
      ]
     },
     "execution_count": 196,
     "metadata": {},
     "output_type": "execute_result"
    }
   ],
   "source": [
    "mydata = pd.read_csv(r\"C:\\Users\\Lea\\Documents\\DataAnalystExercise.csv\")\n",
    "mydata.head()"
   ]
  },
  {
   "cell_type": "markdown",
   "metadata": {},
   "source": [
    "## Data Analysis"
   ]
  },
  {
   "cell_type": "code",
   "execution_count": 197,
   "metadata": {},
   "outputs": [
    {
     "data": {
      "text/plain": [
       "False"
      ]
     },
     "execution_count": 197,
     "metadata": {},
     "output_type": "execute_result"
    }
   ],
   "source": [
    "mydata.isnull().values.any()"
   ]
  },
  {
   "cell_type": "markdown",
   "metadata": {},
   "source": [
    "Data is clean and has no missing values."
   ]
  },
  {
   "cell_type": "code",
   "execution_count": 198,
   "metadata": {},
   "outputs": [
    {
     "data": {
      "text/plain": [
       "Account Manager    object\n",
       "Client Name        object\n",
       "Date of Contact    object\n",
       "dtype: object"
      ]
     },
     "execution_count": 198,
     "metadata": {},
     "output_type": "execute_result"
    }
   ],
   "source": [
    "mydata.dtypes"
   ]
  },
  {
   "cell_type": "code",
   "execution_count": 199,
   "metadata": {},
   "outputs": [
    {
     "data": {
      "text/html": [
       "<div>\n",
       "<style scoped>\n",
       "    .dataframe tbody tr th:only-of-type {\n",
       "        vertical-align: middle;\n",
       "    }\n",
       "\n",
       "    .dataframe tbody tr th {\n",
       "        vertical-align: top;\n",
       "    }\n",
       "\n",
       "    .dataframe thead th {\n",
       "        text-align: right;\n",
       "    }\n",
       "</style>\n",
       "<table border=\"1\" class=\"dataframe\">\n",
       "  <thead>\n",
       "    <tr style=\"text-align: right;\">\n",
       "      <th></th>\n",
       "      <th>Account Manager</th>\n",
       "      <th>Client Name</th>\n",
       "      <th>Date of Contact</th>\n",
       "    </tr>\n",
       "  </thead>\n",
       "  <tbody>\n",
       "    <tr>\n",
       "      <th>count</th>\n",
       "      <td>1001</td>\n",
       "      <td>1001</td>\n",
       "      <td>1001</td>\n",
       "    </tr>\n",
       "    <tr>\n",
       "      <th>unique</th>\n",
       "      <td>4</td>\n",
       "      <td>35</td>\n",
       "      <td>704</td>\n",
       "    </tr>\n",
       "    <tr>\n",
       "      <th>top</th>\n",
       "      <td>Milan Crona</td>\n",
       "      <td>Eichmann and Sons</td>\n",
       "      <td>10/11/2013</td>\n",
       "    </tr>\n",
       "    <tr>\n",
       "      <th>freq</th>\n",
       "      <td>286</td>\n",
       "      <td>38</td>\n",
       "      <td>7</td>\n",
       "    </tr>\n",
       "  </tbody>\n",
       "</table>\n",
       "</div>"
      ],
      "text/plain": [
       "       Account Manager        Client Name Date of Contact\n",
       "count             1001               1001            1001\n",
       "unique               4                 35             704\n",
       "top        Milan Crona  Eichmann and Sons      10/11/2013\n",
       "freq               286                 38               7"
      ]
     },
     "execution_count": 199,
     "metadata": {},
     "output_type": "execute_result"
    }
   ],
   "source": [
    "mydata.describe()"
   ]
  },
  {
   "cell_type": "markdown",
   "metadata": {},
   "source": [
    "It shows that October 2013 has the maximum number of clients contacted."
   ]
  },
  {
   "cell_type": "markdown",
   "metadata": {},
   "source": [
    "I split the Date of Contact coloumn intp Month, Day, and Year columns:"
   ]
  },
  {
   "cell_type": "code",
   "execution_count": 200,
   "metadata": {},
   "outputs": [],
   "source": [
    "mydata[\"Month\"], mydata[\"Day\"], mydata[\"Year\"] = zip(*mydata[\"Date of Contact\"].map(lambda x: x.split(\"/\")))"
   ]
  },
  {
   "cell_type": "code",
   "execution_count": 201,
   "metadata": {},
   "outputs": [
    {
     "data": {
      "text/html": [
       "<div>\n",
       "<style scoped>\n",
       "    .dataframe tbody tr th:only-of-type {\n",
       "        vertical-align: middle;\n",
       "    }\n",
       "\n",
       "    .dataframe tbody tr th {\n",
       "        vertical-align: top;\n",
       "    }\n",
       "\n",
       "    .dataframe thead th {\n",
       "        text-align: right;\n",
       "    }\n",
       "</style>\n",
       "<table border=\"1\" class=\"dataframe\">\n",
       "  <thead>\n",
       "    <tr style=\"text-align: right;\">\n",
       "      <th></th>\n",
       "      <th>Account Manager</th>\n",
       "      <th>Client Name</th>\n",
       "      <th>Date of Contact</th>\n",
       "      <th>Month</th>\n",
       "      <th>Day</th>\n",
       "      <th>Year</th>\n",
       "    </tr>\n",
       "  </thead>\n",
       "  <tbody>\n",
       "    <tr>\n",
       "      <th>0</th>\n",
       "      <td>Milan Crona</td>\n",
       "      <td>Wyman, Farrell and Haag</td>\n",
       "      <td>10/31/2015</td>\n",
       "      <td>10</td>\n",
       "      <td>31</td>\n",
       "      <td>2015</td>\n",
       "    </tr>\n",
       "    <tr>\n",
       "      <th>1</th>\n",
       "      <td>Aidan Pouros</td>\n",
       "      <td>Veum, McClure and Schuster</td>\n",
       "      <td>12/15/2013</td>\n",
       "      <td>12</td>\n",
       "      <td>15</td>\n",
       "      <td>2013</td>\n",
       "    </tr>\n",
       "    <tr>\n",
       "      <th>2</th>\n",
       "      <td>Aidan Pouros</td>\n",
       "      <td>Veum, McClure and Schuster</td>\n",
       "      <td>12/7/2013</td>\n",
       "      <td>12</td>\n",
       "      <td>7</td>\n",
       "      <td>2013</td>\n",
       "    </tr>\n",
       "    <tr>\n",
       "      <th>3</th>\n",
       "      <td>Milan Crona</td>\n",
       "      <td>Armstrong Group</td>\n",
       "      <td>11/2/2013</td>\n",
       "      <td>11</td>\n",
       "      <td>2</td>\n",
       "      <td>2013</td>\n",
       "    </tr>\n",
       "    <tr>\n",
       "      <th>4</th>\n",
       "      <td>Aidan Pouros</td>\n",
       "      <td>Lueilwitz, Moore and Hahn</td>\n",
       "      <td>12/25/2013</td>\n",
       "      <td>12</td>\n",
       "      <td>25</td>\n",
       "      <td>2013</td>\n",
       "    </tr>\n",
       "  </tbody>\n",
       "</table>\n",
       "</div>"
      ],
      "text/plain": [
       "  Account Manager                 Client Name Date of Contact Month Day  Year\n",
       "0     Milan Crona     Wyman, Farrell and Haag      10/31/2015    10  31  2015\n",
       "1    Aidan Pouros  Veum, McClure and Schuster      12/15/2013    12  15  2013\n",
       "2    Aidan Pouros  Veum, McClure and Schuster       12/7/2013    12   7  2013\n",
       "3     Milan Crona             Armstrong Group       11/2/2013    11   2  2013\n",
       "4    Aidan Pouros   Lueilwitz, Moore and Hahn      12/25/2013    12  25  2013"
      ]
     },
     "execution_count": 201,
     "metadata": {},
     "output_type": "execute_result"
    }
   ],
   "source": [
    "mydata.head()"
   ]
  },
  {
   "cell_type": "code",
   "execution_count": 202,
   "metadata": {},
   "outputs": [
    {
     "data": {
      "text/html": [
       "<div>\n",
       "<style scoped>\n",
       "    .dataframe tbody tr th:only-of-type {\n",
       "        vertical-align: middle;\n",
       "    }\n",
       "\n",
       "    .dataframe tbody tr th {\n",
       "        vertical-align: top;\n",
       "    }\n",
       "\n",
       "    .dataframe thead th {\n",
       "        text-align: right;\n",
       "    }\n",
       "</style>\n",
       "<table border=\"1\" class=\"dataframe\">\n",
       "  <thead>\n",
       "    <tr style=\"text-align: right;\">\n",
       "      <th></th>\n",
       "      <th>Account Manager</th>\n",
       "      <th>Client Name</th>\n",
       "      <th>Date of Contact</th>\n",
       "      <th>Month</th>\n",
       "      <th>Day</th>\n",
       "      <th>Year</th>\n",
       "    </tr>\n",
       "  </thead>\n",
       "  <tbody>\n",
       "    <tr>\n",
       "      <th>count</th>\n",
       "      <td>1001</td>\n",
       "      <td>1001</td>\n",
       "      <td>1001</td>\n",
       "      <td>1001</td>\n",
       "      <td>1001</td>\n",
       "      <td>1001</td>\n",
       "    </tr>\n",
       "    <tr>\n",
       "      <th>unique</th>\n",
       "      <td>4</td>\n",
       "      <td>35</td>\n",
       "      <td>704</td>\n",
       "      <td>12</td>\n",
       "      <td>31</td>\n",
       "      <td>5</td>\n",
       "    </tr>\n",
       "    <tr>\n",
       "      <th>top</th>\n",
       "      <td>Milan Crona</td>\n",
       "      <td>Eichmann and Sons</td>\n",
       "      <td>10/11/2013</td>\n",
       "      <td>10</td>\n",
       "      <td>19</td>\n",
       "      <td>2014</td>\n",
       "    </tr>\n",
       "    <tr>\n",
       "      <th>freq</th>\n",
       "      <td>286</td>\n",
       "      <td>38</td>\n",
       "      <td>7</td>\n",
       "      <td>213</td>\n",
       "      <td>44</td>\n",
       "      <td>264</td>\n",
       "    </tr>\n",
       "  </tbody>\n",
       "</table>\n",
       "</div>"
      ],
      "text/plain": [
       "       Account Manager        Client Name Date of Contact Month   Day  Year\n",
       "count             1001               1001            1001  1001  1001  1001\n",
       "unique               4                 35             704    12    31     5\n",
       "top        Milan Crona  Eichmann and Sons      10/11/2013    10    19  2014\n",
       "freq               286                 38               7   213    44   264"
      ]
     },
     "execution_count": 202,
     "metadata": {},
     "output_type": "execute_result"
    }
   ],
   "source": [
    "mydata.describe()"
   ]
  },
  {
   "cell_type": "markdown",
   "metadata": {},
   "source": [
    "It shows that 2014 has the maximum number of clients contacted. Let us look at the number of client contacts by month:"
   ]
  },
  {
   "cell_type": "code",
   "execution_count": 203,
   "metadata": {},
   "outputs": [],
   "source": [
    "mydata_month = mydata.groupby([\"Month\"])[\"Client Name\"].count().reset_index(name = \"Number of Clients\").sort_values([\"Number of Clients\"], ascending = False)"
   ]
  },
  {
   "cell_type": "code",
   "execution_count": 204,
   "metadata": {},
   "outputs": [
    {
     "data": {
      "text/html": [
       "<div>\n",
       "<style scoped>\n",
       "    .dataframe tbody tr th:only-of-type {\n",
       "        vertical-align: middle;\n",
       "    }\n",
       "\n",
       "    .dataframe tbody tr th {\n",
       "        vertical-align: top;\n",
       "    }\n",
       "\n",
       "    .dataframe thead th {\n",
       "        text-align: right;\n",
       "    }\n",
       "</style>\n",
       "<table border=\"1\" class=\"dataframe\">\n",
       "  <thead>\n",
       "    <tr style=\"text-align: right;\">\n",
       "      <th></th>\n",
       "      <th>Month</th>\n",
       "      <th>Number of Clients</th>\n",
       "    </tr>\n",
       "  </thead>\n",
       "  <tbody>\n",
       "    <tr>\n",
       "      <th>1</th>\n",
       "      <td>10</td>\n",
       "      <td>213</td>\n",
       "    </tr>\n",
       "    <tr>\n",
       "      <th>11</th>\n",
       "      <td>9</td>\n",
       "      <td>121</td>\n",
       "    </tr>\n",
       "    <tr>\n",
       "      <th>10</th>\n",
       "      <td>8</td>\n",
       "      <td>79</td>\n",
       "    </tr>\n",
       "    <tr>\n",
       "      <th>3</th>\n",
       "      <td>12</td>\n",
       "      <td>77</td>\n",
       "    </tr>\n",
       "    <tr>\n",
       "      <th>8</th>\n",
       "      <td>6</td>\n",
       "      <td>77</td>\n",
       "    </tr>\n",
       "    <tr>\n",
       "      <th>7</th>\n",
       "      <td>5</td>\n",
       "      <td>69</td>\n",
       "    </tr>\n",
       "    <tr>\n",
       "      <th>9</th>\n",
       "      <td>7</td>\n",
       "      <td>66</td>\n",
       "    </tr>\n",
       "    <tr>\n",
       "      <th>2</th>\n",
       "      <td>11</td>\n",
       "      <td>65</td>\n",
       "    </tr>\n",
       "    <tr>\n",
       "      <th>4</th>\n",
       "      <td>2</td>\n",
       "      <td>64</td>\n",
       "    </tr>\n",
       "    <tr>\n",
       "      <th>0</th>\n",
       "      <td>1</td>\n",
       "      <td>60</td>\n",
       "    </tr>\n",
       "    <tr>\n",
       "      <th>5</th>\n",
       "      <td>3</td>\n",
       "      <td>58</td>\n",
       "    </tr>\n",
       "    <tr>\n",
       "      <th>6</th>\n",
       "      <td>4</td>\n",
       "      <td>52</td>\n",
       "    </tr>\n",
       "  </tbody>\n",
       "</table>\n",
       "</div>"
      ],
      "text/plain": [
       "   Month  Number of Clients\n",
       "1     10                213\n",
       "11     9                121\n",
       "10     8                 79\n",
       "3     12                 77\n",
       "8      6                 77\n",
       "7      5                 69\n",
       "9      7                 66\n",
       "2     11                 65\n",
       "4      2                 64\n",
       "0      1                 60\n",
       "5      3                 58\n",
       "6      4                 52"
      ]
     },
     "execution_count": 204,
     "metadata": {},
     "output_type": "execute_result"
    }
   ],
   "source": [
    "mydata_month"
   ]
  },
  {
   "cell_type": "markdown",
   "metadata": {},
   "source": [
    "There are 35 unique clients, therefore the same clients may have been contacted several times. We need to look at the maximum of unique clients contacted."
   ]
  },
  {
   "cell_type": "code",
   "execution_count": 205,
   "metadata": {},
   "outputs": [],
   "source": [
    "mydata_clients = mydata.groupby([\"Year\", \"Month\", \"Client Name\"])[\"Client Name\"].count().reset_index(name = \"Number of Clients\").sort_values([\"Number of Clients\"], ascending = False)"
   ]
  },
  {
   "cell_type": "markdown",
   "metadata": {},
   "source": [
    "This confirms our previous assumption. Let us look at the unique clients contacted by month."
   ]
  },
  {
   "cell_type": "code",
   "execution_count": 206,
   "metadata": {},
   "outputs": [],
   "source": [
    "mydata_unique_clients_month = mydata.groupby(\"Month\")[(\"Client Name\")].nunique().reset_index(name = \"Number of Unique Clients\").sort_values([\"Number of Unique Clients\"], ascending = False)"
   ]
  },
  {
   "cell_type": "code",
   "execution_count": 207,
   "metadata": {
    "scrolled": true
   },
   "outputs": [
    {
     "data": {
      "text/html": [
       "<div>\n",
       "<style scoped>\n",
       "    .dataframe tbody tr th:only-of-type {\n",
       "        vertical-align: middle;\n",
       "    }\n",
       "\n",
       "    .dataframe tbody tr th {\n",
       "        vertical-align: top;\n",
       "    }\n",
       "\n",
       "    .dataframe thead th {\n",
       "        text-align: right;\n",
       "    }\n",
       "</style>\n",
       "<table border=\"1\" class=\"dataframe\">\n",
       "  <thead>\n",
       "    <tr style=\"text-align: right;\">\n",
       "      <th></th>\n",
       "      <th>Year</th>\n",
       "      <th>Month</th>\n",
       "      <th>Client Name</th>\n",
       "      <th>Number of Clients</th>\n",
       "    </tr>\n",
       "  </thead>\n",
       "  <tbody>\n",
       "    <tr>\n",
       "      <th>285</th>\n",
       "      <td>2015</td>\n",
       "      <td>10</td>\n",
       "      <td>Wyman, Farrell and Haag</td>\n",
       "      <td>7</td>\n",
       "    </tr>\n",
       "    <tr>\n",
       "      <th>5</th>\n",
       "      <td>2013</td>\n",
       "      <td>10</td>\n",
       "      <td>Donnelly-Champlin</td>\n",
       "      <td>6</td>\n",
       "    </tr>\n",
       "    <tr>\n",
       "      <th>74</th>\n",
       "      <td>2014</td>\n",
       "      <td>10</td>\n",
       "      <td>Eichmann and Sons</td>\n",
       "      <td>5</td>\n",
       "    </tr>\n",
       "    <tr>\n",
       "      <th>72</th>\n",
       "      <td>2014</td>\n",
       "      <td>10</td>\n",
       "      <td>Denesik, Stehr and Carter</td>\n",
       "      <td>5</td>\n",
       "    </tr>\n",
       "    <tr>\n",
       "      <th>258</th>\n",
       "      <td>2015</td>\n",
       "      <td>10</td>\n",
       "      <td>Abbott Group</td>\n",
       "      <td>4</td>\n",
       "    </tr>\n",
       "    <tr>\n",
       "      <th>17</th>\n",
       "      <td>2013</td>\n",
       "      <td>10</td>\n",
       "      <td>Kuhic, Stark and Kreiger</td>\n",
       "      <td>4</td>\n",
       "    </tr>\n",
       "    <tr>\n",
       "      <th>23</th>\n",
       "      <td>2013</td>\n",
       "      <td>10</td>\n",
       "      <td>Ondricka-Wolff</td>\n",
       "      <td>4</td>\n",
       "    </tr>\n",
       "    <tr>\n",
       "      <th>466</th>\n",
       "      <td>2016</td>\n",
       "      <td>10</td>\n",
       "      <td>Walter Inc</td>\n",
       "      <td>4</td>\n",
       "    </tr>\n",
       "    <tr>\n",
       "      <th>591</th>\n",
       "      <td>2016</td>\n",
       "      <td>9</td>\n",
       "      <td>Anderson, Kutch and Hyatt</td>\n",
       "      <td>4</td>\n",
       "    </tr>\n",
       "    <tr>\n",
       "      <th>453</th>\n",
       "      <td>2016</td>\n",
       "      <td>10</td>\n",
       "      <td>Hermiston, Armstrong and Balistreri</td>\n",
       "      <td>4</td>\n",
       "    </tr>\n",
       "    <tr>\n",
       "      <th>2</th>\n",
       "      <td>2013</td>\n",
       "      <td>10</td>\n",
       "      <td>Brown, Wyman and Grimes</td>\n",
       "      <td>4</td>\n",
       "    </tr>\n",
       "    <tr>\n",
       "      <th>60</th>\n",
       "      <td>2014</td>\n",
       "      <td>1</td>\n",
       "      <td>Hoppe-Batz</td>\n",
       "      <td>3</td>\n",
       "    </tr>\n",
       "    <tr>\n",
       "      <th>284</th>\n",
       "      <td>2015</td>\n",
       "      <td>10</td>\n",
       "      <td>Walter Inc</td>\n",
       "      <td>3</td>\n",
       "    </tr>\n",
       "    <tr>\n",
       "      <th>69</th>\n",
       "      <td>2014</td>\n",
       "      <td>10</td>\n",
       "      <td>Armstrong Group</td>\n",
       "      <td>3</td>\n",
       "    </tr>\n",
       "    <tr>\n",
       "      <th>71</th>\n",
       "      <td>2014</td>\n",
       "      <td>10</td>\n",
       "      <td>Cormier LLC</td>\n",
       "      <td>3</td>\n",
       "    </tr>\n",
       "    <tr>\n",
       "      <th>494</th>\n",
       "      <td>2016</td>\n",
       "      <td>12</td>\n",
       "      <td>Walter Inc</td>\n",
       "      <td>3</td>\n",
       "    </tr>\n",
       "    <tr>\n",
       "      <th>698</th>\n",
       "      <td>2017</td>\n",
       "      <td>8</td>\n",
       "      <td>Oga, Gottlieb and Cruickshank</td>\n",
       "      <td>3</td>\n",
       "    </tr>\n",
       "    <tr>\n",
       "      <th>87</th>\n",
       "      <td>2014</td>\n",
       "      <td>10</td>\n",
       "      <td>Mitchell and Sons</td>\n",
       "      <td>3</td>\n",
       "    </tr>\n",
       "    <tr>\n",
       "      <th>62</th>\n",
       "      <td>2014</td>\n",
       "      <td>1</td>\n",
       "      <td>Kris, Shanahan and Quigley</td>\n",
       "      <td>3</td>\n",
       "    </tr>\n",
       "    <tr>\n",
       "      <th>75</th>\n",
       "      <td>2014</td>\n",
       "      <td>10</td>\n",
       "      <td>Fahey, Wunsch and Bashirian</td>\n",
       "      <td>3</td>\n",
       "    </tr>\n",
       "    <tr>\n",
       "      <th>281</th>\n",
       "      <td>2015</td>\n",
       "      <td>10</td>\n",
       "      <td>Thompson, Howell and Hegmann</td>\n",
       "      <td>3</td>\n",
       "    </tr>\n",
       "    <tr>\n",
       "      <th>455</th>\n",
       "      <td>2016</td>\n",
       "      <td>10</td>\n",
       "      <td>Johnston-Schaden</td>\n",
       "      <td>3</td>\n",
       "    </tr>\n",
       "    <tr>\n",
       "      <th>279</th>\n",
       "      <td>2015</td>\n",
       "      <td>10</td>\n",
       "      <td>Orn, Russel and O'Reilly</td>\n",
       "      <td>3</td>\n",
       "    </tr>\n",
       "    <tr>\n",
       "      <th>271</th>\n",
       "      <td>2015</td>\n",
       "      <td>10</td>\n",
       "      <td>Hoppe-Batz</td>\n",
       "      <td>3</td>\n",
       "    </tr>\n",
       "    <tr>\n",
       "      <th>552</th>\n",
       "      <td>2016</td>\n",
       "      <td>6</td>\n",
       "      <td>Bosco-Ortiz</td>\n",
       "      <td>3</td>\n",
       "    </tr>\n",
       "    <tr>\n",
       "      <th>553</th>\n",
       "      <td>2016</td>\n",
       "      <td>6</td>\n",
       "      <td>Cormier LLC</td>\n",
       "      <td>3</td>\n",
       "    </tr>\n",
       "    <tr>\n",
       "      <th>110</th>\n",
       "      <td>2014</td>\n",
       "      <td>12</td>\n",
       "      <td>Abbott Group</td>\n",
       "      <td>3</td>\n",
       "    </tr>\n",
       "    <tr>\n",
       "      <th>232</th>\n",
       "      <td>2014</td>\n",
       "      <td>9</td>\n",
       "      <td>Lemke-Pfannerstill</td>\n",
       "      <td>3</td>\n",
       "    </tr>\n",
       "    <tr>\n",
       "      <th>228</th>\n",
       "      <td>2014</td>\n",
       "      <td>9</td>\n",
       "      <td>Halvorson LLC</td>\n",
       "      <td>3</td>\n",
       "    </tr>\n",
       "    <tr>\n",
       "      <th>646</th>\n",
       "      <td>2017</td>\n",
       "      <td>4</td>\n",
       "      <td>Fahey, Wunsch and Bashirian</td>\n",
       "      <td>3</td>\n",
       "    </tr>\n",
       "    <tr>\n",
       "      <th>...</th>\n",
       "      <td>...</td>\n",
       "      <td>...</td>\n",
       "      <td>...</td>\n",
       "      <td>...</td>\n",
       "    </tr>\n",
       "    <tr>\n",
       "      <th>317</th>\n",
       "      <td>2015</td>\n",
       "      <td>2</td>\n",
       "      <td>Medhurst, Ankunding and Wolff</td>\n",
       "      <td>1</td>\n",
       "    </tr>\n",
       "    <tr>\n",
       "      <th>318</th>\n",
       "      <td>2015</td>\n",
       "      <td>2</td>\n",
       "      <td>Mitchell and Sons</td>\n",
       "      <td>1</td>\n",
       "    </tr>\n",
       "    <tr>\n",
       "      <th>320</th>\n",
       "      <td>2015</td>\n",
       "      <td>2</td>\n",
       "      <td>Sanford and Sons</td>\n",
       "      <td>1</td>\n",
       "    </tr>\n",
       "    <tr>\n",
       "      <th>322</th>\n",
       "      <td>2015</td>\n",
       "      <td>2</td>\n",
       "      <td>Veum, McClure and Schuster</td>\n",
       "      <td>1</td>\n",
       "    </tr>\n",
       "    <tr>\n",
       "      <th>307</th>\n",
       "      <td>2015</td>\n",
       "      <td>12</td>\n",
       "      <td>Stamm-Crooks</td>\n",
       "      <td>1</td>\n",
       "    </tr>\n",
       "    <tr>\n",
       "      <th>323</th>\n",
       "      <td>2015</td>\n",
       "      <td>2</td>\n",
       "      <td>Walter Inc</td>\n",
       "      <td>1</td>\n",
       "    </tr>\n",
       "    <tr>\n",
       "      <th>324</th>\n",
       "      <td>2015</td>\n",
       "      <td>2</td>\n",
       "      <td>Wyman, Farrell and Haag</td>\n",
       "      <td>1</td>\n",
       "    </tr>\n",
       "    <tr>\n",
       "      <th>325</th>\n",
       "      <td>2015</td>\n",
       "      <td>3</td>\n",
       "      <td>Bosco-Ortiz</td>\n",
       "      <td>1</td>\n",
       "    </tr>\n",
       "    <tr>\n",
       "      <th>327</th>\n",
       "      <td>2015</td>\n",
       "      <td>3</td>\n",
       "      <td>Franecki-Feil</td>\n",
       "      <td>1</td>\n",
       "    </tr>\n",
       "    <tr>\n",
       "      <th>328</th>\n",
       "      <td>2015</td>\n",
       "      <td>3</td>\n",
       "      <td>Hoppe-Batz</td>\n",
       "      <td>1</td>\n",
       "    </tr>\n",
       "    <tr>\n",
       "      <th>329</th>\n",
       "      <td>2015</td>\n",
       "      <td>3</td>\n",
       "      <td>Kris, Shanahan and Quigley</td>\n",
       "      <td>1</td>\n",
       "    </tr>\n",
       "    <tr>\n",
       "      <th>309</th>\n",
       "      <td>2015</td>\n",
       "      <td>12</td>\n",
       "      <td>Walter Inc</td>\n",
       "      <td>1</td>\n",
       "    </tr>\n",
       "    <tr>\n",
       "      <th>306</th>\n",
       "      <td>2015</td>\n",
       "      <td>12</td>\n",
       "      <td>Mitchell and Sons</td>\n",
       "      <td>1</td>\n",
       "    </tr>\n",
       "    <tr>\n",
       "      <th>277</th>\n",
       "      <td>2015</td>\n",
       "      <td>10</td>\n",
       "      <td>Oga, Gottlieb and Cruickshank</td>\n",
       "      <td>1</td>\n",
       "    </tr>\n",
       "    <tr>\n",
       "      <th>296</th>\n",
       "      <td>2015</td>\n",
       "      <td>12</td>\n",
       "      <td>Armstrong Group</td>\n",
       "      <td>1</td>\n",
       "    </tr>\n",
       "    <tr>\n",
       "      <th>280</th>\n",
       "      <td>2015</td>\n",
       "      <td>10</td>\n",
       "      <td>Stamm-Crooks</td>\n",
       "      <td>1</td>\n",
       "    </tr>\n",
       "    <tr>\n",
       "      <th>282</th>\n",
       "      <td>2015</td>\n",
       "      <td>10</td>\n",
       "      <td>Trantow Inc</td>\n",
       "      <td>1</td>\n",
       "    </tr>\n",
       "    <tr>\n",
       "      <th>287</th>\n",
       "      <td>2015</td>\n",
       "      <td>11</td>\n",
       "      <td>Franecki-Feil</td>\n",
       "      <td>1</td>\n",
       "    </tr>\n",
       "    <tr>\n",
       "      <th>291</th>\n",
       "      <td>2015</td>\n",
       "      <td>11</td>\n",
       "      <td>Medhurst, Ankunding and Wolff</td>\n",
       "      <td>1</td>\n",
       "    </tr>\n",
       "    <tr>\n",
       "      <th>293</th>\n",
       "      <td>2015</td>\n",
       "      <td>11</td>\n",
       "      <td>Sanford and Sons</td>\n",
       "      <td>1</td>\n",
       "    </tr>\n",
       "    <tr>\n",
       "      <th>295</th>\n",
       "      <td>2015</td>\n",
       "      <td>11</td>\n",
       "      <td>Trantow Inc</td>\n",
       "      <td>1</td>\n",
       "    </tr>\n",
       "    <tr>\n",
       "      <th>297</th>\n",
       "      <td>2015</td>\n",
       "      <td>12</td>\n",
       "      <td>Brown, Wyman and Grimes</td>\n",
       "      <td>1</td>\n",
       "    </tr>\n",
       "    <tr>\n",
       "      <th>305</th>\n",
       "      <td>2015</td>\n",
       "      <td>12</td>\n",
       "      <td>Lemke-Pfannerstill</td>\n",
       "      <td>1</td>\n",
       "    </tr>\n",
       "    <tr>\n",
       "      <th>299</th>\n",
       "      <td>2015</td>\n",
       "      <td>12</td>\n",
       "      <td>Eichmann and Sons</td>\n",
       "      <td>1</td>\n",
       "    </tr>\n",
       "    <tr>\n",
       "      <th>300</th>\n",
       "      <td>2015</td>\n",
       "      <td>12</td>\n",
       "      <td>Franecki-Feil</td>\n",
       "      <td>1</td>\n",
       "    </tr>\n",
       "    <tr>\n",
       "      <th>301</th>\n",
       "      <td>2015</td>\n",
       "      <td>12</td>\n",
       "      <td>Hagenes Inc</td>\n",
       "      <td>1</td>\n",
       "    </tr>\n",
       "    <tr>\n",
       "      <th>302</th>\n",
       "      <td>2015</td>\n",
       "      <td>12</td>\n",
       "      <td>Hoppe-Batz</td>\n",
       "      <td>1</td>\n",
       "    </tr>\n",
       "    <tr>\n",
       "      <th>303</th>\n",
       "      <td>2015</td>\n",
       "      <td>12</td>\n",
       "      <td>Koss Inc</td>\n",
       "      <td>1</td>\n",
       "    </tr>\n",
       "    <tr>\n",
       "      <th>304</th>\n",
       "      <td>2015</td>\n",
       "      <td>12</td>\n",
       "      <td>Kris, Shanahan and Quigley</td>\n",
       "      <td>1</td>\n",
       "    </tr>\n",
       "    <tr>\n",
       "      <th>723</th>\n",
       "      <td>2017</td>\n",
       "      <td>9</td>\n",
       "      <td>Wyman, Farrell and Haag</td>\n",
       "      <td>1</td>\n",
       "    </tr>\n",
       "  </tbody>\n",
       "</table>\n",
       "<p>724 rows × 4 columns</p>\n",
       "</div>"
      ],
      "text/plain": [
       "     Year Month                          Client Name  Number of Clients\n",
       "285  2015    10              Wyman, Farrell and Haag                  7\n",
       "5    2013    10                    Donnelly-Champlin                  6\n",
       "74   2014    10                    Eichmann and Sons                  5\n",
       "72   2014    10            Denesik, Stehr and Carter                  5\n",
       "258  2015    10                         Abbott Group                  4\n",
       "17   2013    10             Kuhic, Stark and Kreiger                  4\n",
       "23   2013    10                       Ondricka-Wolff                  4\n",
       "466  2016    10                           Walter Inc                  4\n",
       "591  2016     9            Anderson, Kutch and Hyatt                  4\n",
       "453  2016    10  Hermiston, Armstrong and Balistreri                  4\n",
       "2    2013    10              Brown, Wyman and Grimes                  4\n",
       "60   2014     1                           Hoppe-Batz                  3\n",
       "284  2015    10                           Walter Inc                  3\n",
       "69   2014    10                      Armstrong Group                  3\n",
       "71   2014    10                          Cormier LLC                  3\n",
       "494  2016    12                           Walter Inc                  3\n",
       "698  2017     8        Oga, Gottlieb and Cruickshank                  3\n",
       "87   2014    10                    Mitchell and Sons                  3\n",
       "62   2014     1           Kris, Shanahan and Quigley                  3\n",
       "75   2014    10          Fahey, Wunsch and Bashirian                  3\n",
       "281  2015    10         Thompson, Howell and Hegmann                  3\n",
       "455  2016    10                     Johnston-Schaden                  3\n",
       "279  2015    10             Orn, Russel and O'Reilly                  3\n",
       "271  2015    10                           Hoppe-Batz                  3\n",
       "552  2016     6                          Bosco-Ortiz                  3\n",
       "553  2016     6                          Cormier LLC                  3\n",
       "110  2014    12                         Abbott Group                  3\n",
       "232  2014     9                   Lemke-Pfannerstill                  3\n",
       "228  2014     9                        Halvorson LLC                  3\n",
       "646  2017     4          Fahey, Wunsch and Bashirian                  3\n",
       "..    ...   ...                                  ...                ...\n",
       "317  2015     2        Medhurst, Ankunding and Wolff                  1\n",
       "318  2015     2                    Mitchell and Sons                  1\n",
       "320  2015     2                     Sanford and Sons                  1\n",
       "322  2015     2           Veum, McClure and Schuster                  1\n",
       "307  2015    12                         Stamm-Crooks                  1\n",
       "323  2015     2                           Walter Inc                  1\n",
       "324  2015     2              Wyman, Farrell and Haag                  1\n",
       "325  2015     3                          Bosco-Ortiz                  1\n",
       "327  2015     3                        Franecki-Feil                  1\n",
       "328  2015     3                           Hoppe-Batz                  1\n",
       "329  2015     3           Kris, Shanahan and Quigley                  1\n",
       "309  2015    12                           Walter Inc                  1\n",
       "306  2015    12                    Mitchell and Sons                  1\n",
       "277  2015    10        Oga, Gottlieb and Cruickshank                  1\n",
       "296  2015    12                      Armstrong Group                  1\n",
       "280  2015    10                         Stamm-Crooks                  1\n",
       "282  2015    10                          Trantow Inc                  1\n",
       "287  2015    11                        Franecki-Feil                  1\n",
       "291  2015    11        Medhurst, Ankunding and Wolff                  1\n",
       "293  2015    11                     Sanford and Sons                  1\n",
       "295  2015    11                          Trantow Inc                  1\n",
       "297  2015    12              Brown, Wyman and Grimes                  1\n",
       "305  2015    12                   Lemke-Pfannerstill                  1\n",
       "299  2015    12                    Eichmann and Sons                  1\n",
       "300  2015    12                        Franecki-Feil                  1\n",
       "301  2015    12                          Hagenes Inc                  1\n",
       "302  2015    12                           Hoppe-Batz                  1\n",
       "303  2015    12                             Koss Inc                  1\n",
       "304  2015    12           Kris, Shanahan and Quigley                  1\n",
       "723  2017     9              Wyman, Farrell and Haag                  1\n",
       "\n",
       "[724 rows x 4 columns]"
      ]
     },
     "execution_count": 207,
     "metadata": {},
     "output_type": "execute_result"
    }
   ],
   "source": [
    "mydata_clients"
   ]
  },
  {
   "cell_type": "code",
   "execution_count": 208,
   "metadata": {},
   "outputs": [
    {
     "data": {
      "text/html": [
       "<div>\n",
       "<style scoped>\n",
       "    .dataframe tbody tr th:only-of-type {\n",
       "        vertical-align: middle;\n",
       "    }\n",
       "\n",
       "    .dataframe tbody tr th {\n",
       "        vertical-align: top;\n",
       "    }\n",
       "\n",
       "    .dataframe thead th {\n",
       "        text-align: right;\n",
       "    }\n",
       "</style>\n",
       "<table border=\"1\" class=\"dataframe\">\n",
       "  <thead>\n",
       "    <tr style=\"text-align: right;\">\n",
       "      <th></th>\n",
       "      <th>Month</th>\n",
       "      <th>Number of Unique Clients</th>\n",
       "    </tr>\n",
       "  </thead>\n",
       "  <tbody>\n",
       "    <tr>\n",
       "      <th>1</th>\n",
       "      <td>10</td>\n",
       "      <td>35</td>\n",
       "    </tr>\n",
       "    <tr>\n",
       "      <th>8</th>\n",
       "      <td>6</td>\n",
       "      <td>34</td>\n",
       "    </tr>\n",
       "    <tr>\n",
       "      <th>7</th>\n",
       "      <td>5</td>\n",
       "      <td>33</td>\n",
       "    </tr>\n",
       "    <tr>\n",
       "      <th>10</th>\n",
       "      <td>8</td>\n",
       "      <td>33</td>\n",
       "    </tr>\n",
       "    <tr>\n",
       "      <th>11</th>\n",
       "      <td>9</td>\n",
       "      <td>33</td>\n",
       "    </tr>\n",
       "    <tr>\n",
       "      <th>3</th>\n",
       "      <td>12</td>\n",
       "      <td>32</td>\n",
       "    </tr>\n",
       "    <tr>\n",
       "      <th>4</th>\n",
       "      <td>2</td>\n",
       "      <td>31</td>\n",
       "    </tr>\n",
       "    <tr>\n",
       "      <th>0</th>\n",
       "      <td>1</td>\n",
       "      <td>30</td>\n",
       "    </tr>\n",
       "    <tr>\n",
       "      <th>2</th>\n",
       "      <td>11</td>\n",
       "      <td>30</td>\n",
       "    </tr>\n",
       "    <tr>\n",
       "      <th>5</th>\n",
       "      <td>3</td>\n",
       "      <td>29</td>\n",
       "    </tr>\n",
       "    <tr>\n",
       "      <th>9</th>\n",
       "      <td>7</td>\n",
       "      <td>28</td>\n",
       "    </tr>\n",
       "    <tr>\n",
       "      <th>6</th>\n",
       "      <td>4</td>\n",
       "      <td>26</td>\n",
       "    </tr>\n",
       "  </tbody>\n",
       "</table>\n",
       "</div>"
      ],
      "text/plain": [
       "   Month  Number of Unique Clients\n",
       "1     10                        35\n",
       "8      6                        34\n",
       "7      5                        33\n",
       "10     8                        33\n",
       "11     9                        33\n",
       "3     12                        32\n",
       "4      2                        31\n",
       "0      1                        30\n",
       "2     11                        30\n",
       "5      3                        29\n",
       "9      7                        28\n",
       "6      4                        26"
      ]
     },
     "execution_count": 208,
     "metadata": {},
     "output_type": "execute_result"
    }
   ],
   "source": [
    "mydata_unique_clients_month"
   ]
  },
  {
   "cell_type": "markdown",
   "metadata": {},
   "source": [
    "#### This shows that October is the month with the maximum number of unique clients contacted."
   ]
  },
  {
   "cell_type": "markdown",
   "metadata": {},
   "source": [
    "## Data Visualization"
   ]
  },
  {
   "cell_type": "code",
   "execution_count": 209,
   "metadata": {
    "scrolled": true
   },
   "outputs": [
    {
     "data": {
      "image/png": "[encoded data removed]",
      "text/plain": [
       "<Figure size 432x288 with 1 Axes>"
      ]
     },
     "metadata": {},
     "output_type": "display_data"
    }
   ],
   "source": [
    "sns.barplot(x = \"Month\", y = \"Number of Clients\", data = mydata_month);"
   ]
  },
  {
   "cell_type": "code",
   "execution_count": 210,
   "metadata": {},
   "outputs": [
    {
     "data": {
      "image/png": "[encoded data removed]",
      "text/plain": [
       "<Figure size 432x288 with 1 Axes>"
      ]
     },
     "metadata": {},
     "output_type": "display_data"
    }
   ],
   "source": [
    "sns.barplot(x = \"Month\", y = \"Number of Unique Clients\", data = mydata_unique_clients_month);"
   ]
  },
  {
   "cell_type": "markdown",
   "metadata": {},
   "source": [
    "## Share of Clients Contacted"
   ]
  },
  {
   "cell_type": "markdown",
   "metadata": {},
   "source": [
    "Now, let us look at the share of clients contacted by month."
   ]
  },
  {
   "cell_type": "code",
   "execution_count": 224,
   "metadata": {},
   "outputs": [],
   "source": [
    "def percentage_contact_clients():\n",
    "    mydata_month = mydata.groupby(\"Month\")\n",
    "    clients_count = mydata_month[\"Client Name\"].nunique()\n",
    "    unique_clients_total_count = mydata[\"Client Name\"].nunique()\n",
    "    share = 100 * (clients_count/unique_clients_total_count)\n",
    "    dic = {}\n",
    "    l = 0\n",
    "    for k in mydata_month:\n",
    "        dic[k[0]] = share[l]\n",
    "        l = l + 1\n",
    "    print(share)\n",
    "    print(\"The month in which the greatest percentage of clients where contacted is:\", max(dic, key = dic.get), \".\")\n"
   ]
  },
  {
   "cell_type": "code",
   "execution_count": 225,
   "metadata": {},
   "outputs": [
    {
     "name": "stdout",
     "output_type": "stream",
     "text": [
      "Month\n",
      "1      85.714286\n",
      "10    100.000000\n",
      "11     85.714286\n",
      "12     91.428571\n",
      "2      88.571429\n",
      "3      82.857143\n",
      "4      74.285714\n",
      "5      94.285714\n",
      "6      97.142857\n",
      "7      80.000000\n",
      "8      94.285714\n",
      "9      94.285714\n",
      "Name: Client Name, dtype: float64\n",
      "The month in which the greatest percentage of clients where contacted is: 10 .\n"
     ]
    }
   ],
   "source": [
    "percentage_contact_clients()"
   ]
  },
  {
   "cell_type": "markdown",
   "metadata": {},
   "source": [
    "Now, let us look at the share of unique clients contacted by month and year."
   ]
  },
  {
   "cell_type": "code",
   "execution_count": 231,
   "metadata": {},
   "outputs": [],
   "source": [
    "  def percentage_contact_clients_month_year():\n",
    "    years = list(mydata.Year.unique())\n",
    "    for x in years:\n",
    "        mydata_year = mydata[mydata[\"Year\"] == x]\n",
    "        clients_count = mydata_year.groupby([\"Month\"])['Client Name'].nunique()\n",
    "        unique_clients_total_count = mydata_year[\"Client Name\"].nunique()\n",
    "        share = 100 * (clients_count/unique_clients_total_count)\n",
    "        dic = {}\n",
    "        l = 0\n",
    "        for k in mydata_year.groupby([\"Month\"]):\n",
    "            dic[k[0]] = share[l]\n",
    "            l = l + 1  \n",
    "        print(\"The month in which the maximum number of unique clients were contacted in\", x, \" is:\", max(dic, key = dic.get), \"with a percentage of:\", round(dic[max(dic, key = dic.get)], 4),\".\")\n",
    "        plt.bar(range(len(dic)), list(dic.values()), align = \"center\")\n",
    "        plt.xticks(range(len(dic)), list(dic.keys()))\n",
    "        plt.show()"
   ]
  },
  {
   "cell_type": "code",
   "execution_count": 232,
   "metadata": {},
   "outputs": [
    {
     "name": "stdout",
     "output_type": "stream",
     "text": [
      "The month in which the maximum number of unique clients were contacted in 2015  is: 10 with a percentage of: 80.0 .\n"
     ]
    },
    {
     "data": {
      "image/png": "[encoded data removed]",
      "text/plain": [
       "<Figure size 432x288 with 1 Axes>"
      ]
     },
     "metadata": {},
     "output_type": "display_data"
    },
    {
     "name": "stdout",
     "output_type": "stream",
     "text": [
      "The month in which the maximum number of unique clients were contacted in 2013  is: 10 with a percentage of: 88.5714 .\n"
     ]
    },
    {
     "data": {
      "image/png": "[encoded data removed]",
      "text/plain": [
       "<Figure size 432x288 with 1 Axes>"
      ]
     },
     "metadata": {},
     "output_type": "display_data"
    },
    {
     "name": "stdout",
     "output_type": "stream",
     "text": [
      "The month in which the maximum number of unique clients were contacted in 2016  is: 10 with a percentage of: 71.4286 .\n"
     ]
    },
    {
     "data": {
      "image/png": "[encoded data removed]",
      "text/plain": [
       "<Figure size 432x288 with 1 Axes>"
      ]
     },
     "metadata": {},
     "output_type": "display_data"
    },
    {
     "name": "stdout",
     "output_type": "stream",
     "text": [
      "The month in which the maximum number of unique clients were contacted in 2014  is: 10 with a percentage of: 80.0 .\n"
     ]
    },
    {
     "data": {
      "image/png": "[encoded data removed]",
      "text/plain": [
       "<Figure size 432x288 with 1 Axes>"
      ]
     },
     "metadata": {},
     "output_type": "display_data"
    },
    {
     "name": "stdout",
     "output_type": "stream",
     "text": [
      "The month in which the maximum number of unique clients were contacted in 2017  is: 9 with a percentage of: 60.0 .\n"
     ]
    },
    {
     "data": {
      "image/png": "[encoded data removed]",
      "text/plain": [
       "<Figure size 432x288 with 1 Axes>"
      ]
     },
     "metadata": {},
     "output_type": "display_data"
    }
   ],
   "source": [
    "percentage_contact_clients_month_year()"
   ]
  }
 ],
 "metadata": {
  "kernelspec": {
   "display_name": "Python 3",
   "language": "python",
   "name": "python3"
  },
  "language_info": {
   "codemirror_mode": {
    "name": "ipython",
    "version": 3
   },
   "file_extension": ".py",
   "mimetype": "text/x-python",
   "name": "python",
   "nbconvert_exporter": "python",
   "pygments_lexer": "ipython3",
   "version": "3.6.5"
  }
 },
 "nbformat": 4,
 "nbformat_minor": 2
}
